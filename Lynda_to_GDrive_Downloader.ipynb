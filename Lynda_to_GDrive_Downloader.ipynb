{
  "nbformat": 4,
  "nbformat_minor": 0,
  "metadata": {
    "colab": {
      "name": "Lynda_to_GDrive_Downloader.ipynb",
      "provenance": [],
      "collapsed_sections": [],
      "authorship_tag": "ABX9TyP+8xlQ46rbZHVOOSaMseMp",
      "include_colab_link": true
    },
    "kernelspec": {
      "name": "python3",
      "display_name": "Python 3"
    }
  },
  "cells": [
    {
      "cell_type": "markdown",
      "metadata": {
        "id": "view-in-github",
        "colab_type": "text"
      },
      "source": [
        "<a href=\"https://colab.research.google.com/github/Rewzaw/Lynda_to_GDrive_Downloader/blob/master/Lynda_to_GDrive_Downloader.ipynb\" target=\"_parent\"><img src=\"https://colab.research.google.com/assets/colab-badge.svg\" alt=\"Open In Colab\"/></a>"
      ]
    },
    {
      "cell_type": "code",
      "metadata": {
        "id": "gNlRx0wB-kxJ",
        "colab_type": "code",
        "colab": {},
        "cellView": "form"
      },
      "source": [
        "#@markdown <h3>⬅️ Run this Cell to  Mount Gdrive\n",
        "#@markdown <br><center><img src='https://upload.wikimedia.org/wikipedia/commons/thumb/d/da/Google_Drive_logo.png/600px-Google_Drive_logo.png' height=\"110\" alt=\"Gdrive logo\"/></center>\n",
        " \n",
        "MODE = \"MOUNT\" #@param [\"MOUNT\", \"UNMOUNT\"]\n",
        "#Mount your Gdrive! \n",
        "from google.colab import drive\n",
        "drive.mount._DEBUG = False\n",
        "if MODE == \"MOUNT\":\n",
        "  drive.mount('/content/drive', force_remount=True)\n",
        "elif MODE == \"UNMOUNT\":\n",
        "  try:\n",
        "    drive.flush_and_unmount()\n",
        "  except ValueError:\n",
        "    pass\n",
        "  get_ipython().system_raw(\"rm -rf /root/.config/Google/DriveFS\")"
      ],
      "execution_count": null,
      "outputs": []
    },
    {
      "cell_type": "code",
      "metadata": {
        "id": "hQUNVXEB-wQP",
        "colab_type": "code",
        "colab": {},
        "cellView": "form"
      },
      "source": [
        "#@markdown <h3>⬅️ Run this Cell to Install Required Libraries \n",
        "#@markdown <br><center><img src='http://uupload.ir/files/iqwa_library.jpg' height=\"200\" alt=\"Gdrive logo\"/></center>\n",
        " \n",
        "!git clone https://github.com/COD-Legend/lynda-dl.git\n",
        "!pip install -r /content/lynda-dl/requirements.txt\n",
        "from IPython.display import HTML, clear_output\n",
        " \n",
        "clear_output()\n",
        " \n",
        "display(HTML(\"<center><h2 style=\\\"font-family:Trebuchet MS;color:#4f8bd6;\\\">Successfully Configured!</h2><br></center>\"))"
      ],
      "execution_count": null,
      "outputs": []
    },
    {
      "cell_type": "markdown",
      "metadata": {
        "id": "A1dc3fsKNvAy",
        "colab_type": "text"
      },
      "source": [
        "![alt text](http://uupload.ir/files/4rxr_1.jpg)"
      ]
    },
    {
      "cell_type": "code",
      "metadata": {
        "id": "daA-y77gKOgf",
        "colab_type": "code",
        "colab": {},
        "cellView": "form"
      },
      "source": [
        "#@markdown <h3>⬅️ Run this Cell to Upload Your cookies.txt File to Colab\n",
        "\n",
        "#@markdown <br><center><img src='http://uupload.ir/files/elql_3.jpg' height=\"200\" alt=\"Gdrive logo\"/></center>\n",
        "\n",
        "from google.colab import files\n",
        "from IPython.display import HTML, clear_output\n",
        "\n",
        "uploaded = files.upload()\n",
        "\n",
        "for fn in uploaded.keys():\n",
        "  print('User uploaded file \"{name}\" with length {length} bytes'.format(\n",
        "      name=fn, length=len(uploaded[fn])))\n",
        "  \n",
        "clear_output()\n",
        "\n",
        "display(HTML(\"<center><h2 style=\\\"font-family:Trebuchet MS;color:#4f8bd6;\\\">Successfully Uploaded!</h2><br></center>\"))"
      ],
      "execution_count": null,
      "outputs": []
    },
    {
      "cell_type": "markdown",
      "metadata": {
        "id": "429tgen2OeZO",
        "colab_type": "text"
      },
      "source": [
        "![alt text](http://uupload.ir/files/21cu_2.jpg)"
      ]
    },
    {
      "cell_type": "code",
      "metadata": {
        "id": "qPtPjqf4F0TL",
        "colab_type": "code",
        "colab": {},
        "cellView": "form"
      },
      "source": [
        "#@title Download course using organization's library card\n",
        "LYNDA_ID = \"\" #@param {type:\"string\"}\n",
        "PIN = \"\" #@param {type:\"string\"}\n",
        "COURSE_LINK = \"\" #@param {type:\"string\"}\n",
        "!python /content/lynda-dl/lynda-dl.py -k /content/lynda-dl/cookies.txt -u \"$LYNDA_ID\" -p \"$PIN\" -o organization \"$COURSE_LINK\" -q 720 -d \"/content/lynda_Course\""
      ],
      "execution_count": null,
      "outputs": []
    },
    {
      "cell_type": "code",
      "metadata": {
        "id": "6t6wEkXyQPF-",
        "colab_type": "code",
        "colab": {},
        "cellView": "form"
      },
      "source": [
        "#@markdown <h3>⬅️ Run this Cell to Download course using user credentials\n",
        "LYNDA_ID = \"\" #@param {type:\"string\"}\n",
        "PIN = \"\" #@param {type:\"string\"}\n",
        "COURSE_LINK = \"\" #@param {type:\"string\"}\n",
        "!python /content/lynda-dl/lynda-dl.py -k /content/lynda-dl/cookies.txt -u \"$LYNDA_ID\" -p \"$PIN\" \"$COURSE_LINK\" -q 720 -d \"/content/lynda_Course\""
      ],
      "execution_count": null,
      "outputs": []
    },
    {
      "cell_type": "code",
      "metadata": {
        "id": "lsS3635RF7br",
        "colab_type": "code",
        "colab": {},
        "cellView": "form"
      },
      "source": [
        "#@markdown <h3>⬅️ Run this Cell to Move Downloaded Courses to Gdrive\n",
        "!mv /content/lynda_Course \"/content/drive/My Drive/lynda_Course\""
      ],
      "execution_count": null,
      "outputs": []
    }
  ]
}